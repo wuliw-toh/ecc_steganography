{
 "cells": [
  {
   "cell_type": "code",
   "execution_count": 1,
   "metadata": {},
   "outputs": [],
   "source": [
    "import os\n",
    "os.chdir(\"../module/\")\n",
    "from stat_treak import * "
   ]
  },
  {
   "cell_type": "code",
   "execution_count": 2,
   "metadata": {},
   "outputs": [],
   "source": [
    "import matplotlib\n",
    "import matplotlib.pyplot as plt\n",
    "%matplotlib inline\n",
    "\n",
    "from pylab import rcParams\n",
    "rcParams['figure.figsize'] = 14, 8"
   ]
  },
  {
   "cell_type": "code",
   "execution_count": 8,
   "metadata": {},
   "outputs": [],
   "source": [
    "import numpy as np"
   ]
  },
  {
   "cell_type": "code",
   "execution_count": 9,
   "metadata": {},
   "outputs": [],
   "source": [
    "p_glonal = 0.05"
   ]
  },
  {
   "cell_type": "code",
   "execution_count": 4,
   "metadata": {},
   "outputs": [
    {
     "data": {
      "text/plain": [
       "8.33965316760186"
      ]
     },
     "execution_count": 4,
     "metadata": {},
     "output_type": "execute_result"
    }
   ],
   "source": [
    "selection_g_x(p_glonal)\n",
    "kol_fix_need(63,p_glonal)"
   ]
  },
  {
   "cell_type": "code",
   "execution_count": 5,
   "metadata": {},
   "outputs": [],
   "source": [
    "def selectiontest(p):\n",
    "    mas = [7,15,31,63,127]\n",
    "    out = []\n",
    "    for i in mas:\n",
    "        work_p = synthetic_p(p,i,kol_fix_need(i,p)+1) * 2\n",
    "        out.append(norm_p(work_p,i))\n",
    "    return out "
   ]
  },
  {
   "cell_type": "code",
   "execution_count": 6,
   "metadata": {},
   "outputs": [],
   "source": [
    "art =  selectiontest(p_glonal)"
   ]
  },
  {
   "cell_type": "code",
   "execution_count": 7,
   "metadata": {},
   "outputs": [
    {
     "data": {
      "image/png": "[encoded data removed]",
      "text/plain": [
       "<Figure size 1008x576 with 1 Axes>"
      ]
     },
     "metadata": {
      "needs_background": "light"
     },
     "output_type": "display_data"
    }
   ],
   "source": [
    "plt.plot([7,15,31,63,127],art,color=\"red\")\n",
    "plt.ylabel(\"p_sicret\")\n",
    "plt.xlabel(\"n_cod\")\n",
    "plt.grid()"
   ]
  },
  {
   "cell_type": "markdown",
   "metadata": {},
   "source": [
    "### Оконные функции и компания"
   ]
  },
  {
   "cell_type": "code",
   "execution_count": 12,
   "metadata": {},
   "outputs": [
    {
     "data": {
      "text/plain": [
       "2"
      ]
     },
     "execution_count": 12,
     "metadata": {},
     "output_type": "execute_result"
    }
   ],
   "source": [
    "test_mas = np.arange(0,20)\n",
    "test_mas[22%20]"
   ]
  },
  {
   "cell_type": "code",
   "execution_count": 18,
   "metadata": {},
   "outputs": [],
   "source": [
    "def win_treak(mas,size):\n",
    "    out = []\n",
    "    for i in range(len(mas) - size + 1):\n",
    "        out.append(np.array([mas[x%len(mas)] for x in range(i,i+size)]))\n",
    "    return out"
   ]
  },
  {
   "cell_type": "code",
   "execution_count": 30,
   "metadata": {},
   "outputs": [
    {
     "data": {
      "text/plain": [
       "[array([0, 1, 2, 3, 4, 5, 6, 7, 8]),\n",
       " array([1, 2, 3, 4, 5, 6, 7, 8, 9]),\n",
       " array([ 2,  3,  4,  5,  6,  7,  8,  9, 10]),\n",
       " array([ 3,  4,  5,  6,  7,  8,  9, 10, 11]),\n",
       " array([ 4,  5,  6,  7,  8,  9, 10, 11, 12]),\n",
       " array([ 5,  6,  7,  8,  9, 10, 11, 12, 13]),\n",
       " array([ 6,  7,  8,  9, 10, 11, 12, 13, 14]),\n",
       " array([ 7,  8,  9, 10, 11, 12, 13, 14, 15]),\n",
       " array([ 8,  9, 10, 11, 12, 13, 14, 15, 16]),\n",
       " array([ 9, 10, 11, 12, 13, 14, 15, 16, 17]),\n",
       " array([10, 11, 12, 13, 14, 15, 16, 17, 18]),\n",
       " array([11, 12, 13, 14, 15, 16, 17, 18, 19])]"
      ]
     },
     "execution_count": 30,
     "metadata": {},
     "output_type": "execute_result"
    }
   ],
   "source": [
    "win_treak(test_mas,9)"
   ]
  },
  {
   "cell_type": "code",
   "execution_count": 20,
   "metadata": {},
   "outputs": [],
   "source": [
    "def win_map(foo,mas,size):\n",
    "    mas_1 = win_treak(mas,size)\n",
    "    return [foo(x) for x in mas_1]"
   ]
  },
  {
   "cell_type": "code",
   "execution_count": 25,
   "metadata": {},
   "outputs": [],
   "source": [
    "def sred(mas):\n",
    "    return sum(mas) / len(mas)"
   ]
  },
  {
   "cell_type": "code",
   "execution_count": 29,
   "metadata": {},
   "outputs": [
    {
     "data": {
      "text/plain": [
       "[8, 9, 10, 11, 12, 13, 14, 15, 16, 17, 18, 19]"
      ]
     },
     "execution_count": 29,
     "metadata": {},
     "output_type": "execute_result"
    }
   ],
   "source": [
    "win_map(np.max,test_mas,9)"
   ]
  },
  {
   "cell_type": "code",
   "execution_count": 39,
   "metadata": {},
   "outputs": [],
   "source": [
    "def cut_treak(mas,et):\n",
    "    stop = 0\n",
    "    size = len(et)\n",
    "    for i in range(len(mas) - size + 1):\n",
    "        real_mas = np.array([mas[x%len(mas)] for x in range(i,i+size)])\n",
    "        if (sum(real_mas == et)/len(et)) > 0.95:\n",
    "            stop = i\n",
    "            break\n",
    "       \n",
    "    return mas[:stop]"
   ]
  },
  {
   "cell_type": "code",
   "execution_count": 40,
   "metadata": {},
   "outputs": [
    {
     "data": {
      "text/plain": [
       "array([0, 1, 2, 3, 4, 5, 6])"
      ]
     },
     "execution_count": 40,
     "metadata": {},
     "output_type": "execute_result"
    }
   ],
   "source": [
    "et = np.arange(7,16)\n",
    "cut_treak(test_mas,et)"
   ]
  },
  {
   "cell_type": "code",
   "execution_count": null,
   "metadata": {},
   "outputs": [],
   "source": []
  }
 ],
 "metadata": {
  "kernelspec": {
   "display_name": "Python 3",
   "language": "python",
   "name": "python3"
  },
  "language_info": {
   "codemirror_mode": {
    "name": "ipython",
    "version": 3
   },
   "file_extension": ".py",
   "mimetype": "text/x-python",
   "name": "python",
   "nbconvert_exporter": "python",
   "pygments_lexer": "ipython3",
   "version": "3.8.3"
  }
 },
 "nbformat": 4,
 "nbformat_minor": 4
}
