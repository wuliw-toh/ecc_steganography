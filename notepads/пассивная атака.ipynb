{
 "cells": [
  {
   "cell_type": "code",
   "execution_count": 1,
   "metadata": {},
   "outputs": [],
   "source": [
    "import os\n",
    "os.chdir(\"ecc_steganography/module/\")\n",
    "\n",
    "from ecc_editor import *\n",
    "import ecc_library as e_lib\n",
    "import interference_and_attacks as iaa\n",
    "import secret_block as sb\n",
    "import stat_treak as stat \n",
    "\n",
    "os.chdir(\"../notepads/data/\")"
   ]
  },
  {
   "cell_type": "code",
   "execution_count": 2,
   "metadata": {},
   "outputs": [],
   "source": [
    "import matplotlib\n",
    "import matplotlib.pyplot as plt\n",
    "%matplotlib inline\n",
    "\n",
    "from pylab import rcParams\n",
    "rcParams[\"figure.figsize\"] = 14,8\n",
    "\n",
    "from scipy.stats.kde import gaussian_kde"
   ]
  },
  {
   "cell_type": "markdown",
   "metadata": {},
   "source": [
    "### Блок подготовки длинной последовательнсоти"
   ]
  },
  {
   "cell_type": "code",
   "execution_count": 3,
   "metadata": {},
   "outputs": [
    {
     "name": "stdout",
     "output_type": "stream",
     "text": [
      "Вероятность естественной ошибки 0.05\n",
      "Код бокса ('63_7_15', 95457791829701599)\n",
      "Вероятность искуственной ошибки  0.06620442158513286\n",
      "Код майла  ('7_1_3', 127)\n",
      "===================================\n",
      "Длинна бокса 898065 bit\n",
      "Ожидаеммая длинна контенера 59455.87387085234\n",
      "Реальная длинна контейнера 57680\n",
      "===================================\n",
      "Вероятность искуственной ошибки 0.03285619637776776\n",
      "Вероятность естественной ошибки 0.04993513832517691\n",
      "Полная вероятность в кейсе 0.0795911209099564\n"
     ]
    }
   ],
   "source": [
    "p_erorr_global = 0.05\n",
    "key = b\"123_mail_UP\"\n",
    "\n",
    "name_cod_box = stat.selection_g_x(p_erorr_global)\n",
    "print(\"Вероятность естественной ошибки\",p_erorr_global)\n",
    "print(\"Код бокса\",name_cod_box)\n",
    "\n",
    "p_sintetik = stat.selection_sintetik_p(p_erorr_global,name_cod_box[0])\n",
    "print(\"Вероятность искуственной ошибки \",p_sintetik)\n",
    "name_cod_mail = stat.selection_g_x(p_erorr_global,0)\n",
    "print(\"Код майла \",name_cod_mail)\n",
    "\n",
    "print(\"===================================\")\n",
    "\n",
    "treak_to_box = \"long_text.txt\"\n",
    "box_editer = ecc_editor(name_cod_box[0])\n",
    "long_box = box_editer.cod_work(treak_to_box)\n",
    "len_box = len(long_box)\n",
    "print(f\"Длинна бокса {len_box} bit\")\n",
    "\n",
    "\n",
    "treak_to_mail = \"mail.txt\"\n",
    "mail_editer = ecc_editor(name_cod_mail[0])\n",
    "long_mail = mail_editer.cod_work(treak_to_mail)\n",
    "\n",
    "print(\"Ожидаеммая длинна контенера\",len_box * p_sintetik)\n",
    "print(\"Реальная длинна контейнера\",len(long_mail))\n",
    "\n",
    "\n",
    "print(\"===================================\")\n",
    "sicret_ed_in = sb.secret_editor(key)\n",
    "to_link = sicret_ed_in.merge_sequences(long_box,long_mail,p_sintetik)\n",
    "print(f\"Вероятность искуственной ошибки {sum(to_link != long_box) / len(long_box)}\")\n",
    "dop = 1\n",
    "from_link = iaa.noise_in_treak(to_link,p_erorr_global * dop)\n",
    "print(f\"Вероятность естественной ошибки {sum(to_link != from_link) / len(from_link)}\")\n",
    "print(f\"Полная вероятность в кейсе {sum(long_box != from_link) / len(from_link)}\")\n",
    "full_error = sum(long_box != from_link) / len(from_link)"
   ]
  },
  {
   "cell_type": "markdown",
   "metadata": {},
   "source": [
    "### Минутка статистики"
   ]
  },
  {
   "cell_type": "code",
   "execution_count": 4,
   "metadata": {},
   "outputs": [
    {
     "name": "stdout",
     "output_type": "stream",
     "text": [
      "Стат параметры\n",
      "Вероятность встретить 0 =>  0.49866546408110773\n",
      "Вероятность встретить 1 =>  0.5013345359188923\n",
      "Вероятности переходов\n",
      "1 to 1 =>  0.5017624286199751\n",
      "1 to 0 =>  0.49823757138002495\n",
      "0 to 0 =>  0.49909341407753766\n",
      "0 to 1 =>  0.5009043529522099\n"
     ]
    }
   ],
   "source": [
    "print(\"Стат параметры\")\n",
    "print(\"Вероятность встретить 0 => \",sum(from_link == 0) / len(from_link))\n",
    "print(\"Вероятность встретить 1 => \",sum(from_link == 1) / len(from_link))\n",
    "\n",
    "\n",
    "X1 = from_link == 1\n",
    "X2 = from_link == 0\n",
    "\n",
    "print(\"Вероятности переходов\")\n",
    "print(\"1 to 1 => \",sum(X1[:-1]&X1[1:]) / sum(X1))\n",
    "print(\"1 to 0 => \",sum(X1[:-1]&X2[1:]) / sum(X1))\n",
    "\n",
    "print(\"0 to 0 => \",sum(X2[:-1]&X2[1:]) / sum(X2))\n",
    "print(\"0 to 1 => \",sum(X2[:-1]&X1[1:]) / sum(X2))"
   ]
  },
  {
   "cell_type": "code",
   "execution_count": 5,
   "metadata": {},
   "outputs": [],
   "source": [
    "class decod_atacl(ecc_strem):\n",
    "    \n",
    "    def decoding_work(self,mas_in):\n",
    "        mas_1 = []\n",
    "        mas_2 = []\n",
    "        \n",
    "        for x in mas_in:\n",
    "            pol,kol_err = self.decoding_blok(x)\n",
    "            mas_1.append(pol)\n",
    "            mas_2.append(kol_err)\n",
    "            \n",
    "        return np.array(mas_1),np.array(mas_2)\n",
    "    \n",
    "       \n",
    "    def decoding_blok(self,value):\n",
    "        n = 0\n",
    "        work_p = polinom(value,self.n_cod)\n",
    "        ost = work_p % self.g_x\n",
    "        \n",
    "        if sum(ost.main_mas) != 0:       \n",
    "            while self.t_cod < sum(ost.main_mas):\n",
    "                n += 1\n",
    "                work_p = work_p << 1\n",
    "                ost = work_p % self.g_x\n",
    "                \n",
    "                if n > self.n_cod: \n",
    "                    break\n",
    "                \n",
    "            work_p = work_p + ost\n",
    "            work_p = work_p >> n\n",
    "             \n",
    "        long_pol = work_p / self.g_x\n",
    "        return polinom(long_pol.main_mas[(self.n_cod - self.k_cod):],self.k_cod).main_mas , sum(ost.main_mas)\n",
    "    \n",
    "    def chek_error_blok(self,value):\n",
    "        n = 0\n",
    "        work_p = polinom(value,self.n_cod)\n",
    "        ost = work_p % self.g_x\n",
    "        \n",
    "        if sum(ost.main_mas) != 0:       \n",
    "            while self.t_cod < sum(ost.main_mas):\n",
    "                n += 1\n",
    "                work_p = work_p << 1\n",
    "                ost = work_p % self.g_x\n",
    "                \n",
    "                if n > self.n_cod: \n",
    "                    break\n",
    "                \n",
    "            ost = ost >> n\n",
    "            work_p = work_p >> n\n",
    "             \n",
    "        out = []\n",
    "        for i in range(len(work_p.main_mas)):\n",
    "            if ost.main_mas[i] == 1:\n",
    "                out.append(work_p.main_mas[i])\n",
    "        return out\n",
    "    \n",
    "    def chek_err_work(self,mas_in):\n",
    "        return [self.chek_error_blok(x) for x in mas_in]\n",
    "        \n",
    "        \n",
    "        "
   ]
  },
  {
   "cell_type": "code",
   "execution_count": 6,
   "metadata": {},
   "outputs": [],
   "source": [
    "test = decod_atacl(63,7,15)\n",
    "precoder_test = precoder(63)\n",
    "mas_work = precoder_test.long_cut(from_link)\n",
    "u_cod, kol_err =  test.decoding_work(mas_work)\n",
    "\n",
    "len_mas_work = len(mas_work)"
   ]
  },
  {
   "cell_type": "code",
   "execution_count": 7,
   "metadata": {},
   "outputs": [
    {
     "name": "stdout",
     "output_type": "stream",
     "text": [
      "14255\n"
     ]
    }
   ],
   "source": [
    "print(len_mas_work)"
   ]
  },
  {
   "cell_type": "markdown",
   "metadata": {},
   "source": [
    "### Эталон"
   ]
  },
  {
   "cell_type": "code",
   "execution_count": 8,
   "metadata": {},
   "outputs": [],
   "source": [
    "et_err_cod = []\n",
    "for i in range(len_mas_work):\n",
    "    et_err_cod.append(sum(iaa.noise_in_treak(np.zeros(63),full_error)))"
   ]
  },
  {
   "cell_type": "code",
   "execution_count": 9,
   "metadata": {},
   "outputs": [],
   "source": [
    "ma_den = gaussian_kde(kol_err,bw_method=0.4)\n",
    "x = np.linspace(0,15,1000)\n",
    "y = ma_den(x)\n",
    "\n",
    "ma_den = gaussian_kde(et_err_cod,bw_method=0.4)\n",
    "y_et = ma_den(x)"
   ]
  },
  {
   "cell_type": "code",
   "execution_count": 10,
   "metadata": {},
   "outputs": [
    {
     "data": {
      "image/png": "[encoded data removed]",
      "text/plain": [
       "<Figure size 1008x576 with 1 Axes>"
      ]
     },
     "metadata": {
      "needs_background": "light"
     },
     "output_type": "display_data"
    }
   ],
   "source": [
    "plt.plot(x,y)\n",
    "plt.plot(x,y_et)\n",
    "plt.legend([\"full_box\" , \"et\"])\n",
    "plt.grid();"
   ]
  },
  {
   "cell_type": "markdown",
   "metadata": {},
   "source": [
    " ###   Проверка стат гипотез"
   ]
  },
  {
   "cell_type": "code",
   "execution_count": 11,
   "metadata": {},
   "outputs": [],
   "source": [
    "import numpy as np"
   ]
  },
  {
   "cell_type": "code",
   "execution_count": 12,
   "metadata": {},
   "outputs": [],
   "source": [
    "def stat_test(mas):\n",
    "    print(\"M   => \",np.mean(mas))\n",
    "    print(\"D   => \",np.var(mas))\n",
    "    print(\"Med => \",np.median(mas))\n",
    "    print(\"std => \",np.std(mas))\n",
    "    \n",
    "    print(end=\"|\")\n",
    "    for i in range(1,10):\n",
    "        print(str(i*10)+\"% =\",np.percentile(mas,i*10),end=\"|\")\n",
    "    print()"
   ]
  },
  {
   "cell_type": "code",
   "execution_count": 13,
   "metadata": {},
   "outputs": [
    {
     "name": "stdout",
     "output_type": "stream",
     "text": [
      "----------------------------------------------------------------------------------------------\n",
      "M   =>  5.0157137846369695\n",
      "D   =>  4.743492115906091\n",
      "Med =>  5.0\n",
      "std =>  2.177955949027916\n",
      "|10% = 2.0|20% = 3.0|30% = 4.0|40% = 4.0|50% = 5.0|60% = 5.0|70% = 6.0|80% = 7.0|90% = 8.0|\n",
      "----------------------------------------------------------------------------------------------\n",
      "M   =>  4.988986320589267\n",
      "D   =>  4.47669385144388\n",
      "Med =>  5.0\n",
      "std =>  2.115819900521753\n",
      "|10% = 2.0|20% = 3.0|30% = 4.0|40% = 4.0|50% = 5.0|60% = 5.0|70% = 6.0|80% = 7.0|90% = 8.0|\n",
      "----------------------------------------------------------------------------------------------\n"
     ]
    }
   ],
   "source": [
    "print(\"----------------------------------------------------------------------------------------------\")\n",
    "stat_test(kol_err)\n",
    "print(\"----------------------------------------------------------------------------------------------\")\n",
    "stat_test(et_err_cod)\n",
    "print(\"----------------------------------------------------------------------------------------------\")"
   ]
  },
  {
   "cell_type": "markdown",
   "metadata": {},
   "source": [
    "### Извлечение данных"
   ]
  },
  {
   "cell_type": "code",
   "execution_count": 14,
   "metadata": {},
   "outputs": [
    {
     "data": {
      "text/plain": [
       "[0, 0, 0, 1, 0, 0, 0, 1, 1]"
      ]
     },
     "execution_count": 14,
     "metadata": {},
     "output_type": "execute_result"
    }
   ],
   "source": [
    "test.chek_error_blok(mas_work[0])"
   ]
  },
  {
   "cell_type": "code",
   "execution_count": 15,
   "metadata": {},
   "outputs": [
    {
     "data": {
      "text/plain": [
       "(array([0., 1., 0., 0., 1., 0., 0.]), 9.0)"
      ]
     },
     "execution_count": 15,
     "metadata": {},
     "output_type": "execute_result"
    }
   ],
   "source": [
    "test.decoding_blok(mas_work[0])"
   ]
  },
  {
   "cell_type": "code",
   "execution_count": 16,
   "metadata": {},
   "outputs": [],
   "source": [
    "mail_out  =  test.chek_err_work(mas_work)"
   ]
  },
  {
   "cell_type": "code",
   "execution_count": 17,
   "metadata": {},
   "outputs": [
    {
     "data": {
      "text/plain": [
       "[[0, 0, 0, 1, 0, 0, 0, 1, 1], [1, 0, 1, 0, 1], [1], [1, 1, 0, 0], [0, 1, 0, 0]]"
      ]
     },
     "execution_count": 17,
     "metadata": {},
     "output_type": "execute_result"
    }
   ],
   "source": [
    "mail_out[:5]"
   ]
  },
  {
   "cell_type": "code",
   "execution_count": 18,
   "metadata": {},
   "outputs": [
    {
     "data": {
      "text/plain": [
       "array([0., 0., 0., 1., 0., 0., 0., 1., 1., 1., 0., 1., 0., 1., 1., 1., 1.,\n",
       "       0., 0., 0., 1., 0., 0., 1., 0., 0., 0., 0., 1., 0., 0., 0., 0., 0.,\n",
       "       1., 0., 1., 0., 0., 1., 0., 1., 0., 1., 1., 1., 0., 1., 0., 0., 0.,\n",
       "       0., 1., 1., 1., 0., 1., 1., 1., 1., 0., 1., 1., 0., 0., 0., 0., 0.,\n",
       "       1., 1., 1., 0., 0., 0., 1., 1., 0., 1., 1., 0., 0., 1., 1., 1., 1.,\n",
       "       1., 1., 0., 0., 1., 0., 0., 1., 0., 1., 0., 1., 0., 1., 0.])"
      ]
     },
     "execution_count": 18,
     "metadata": {},
     "output_type": "execute_result"
    }
   ],
   "source": [
    "long_mail =  scotch_global(mail_out)\n",
    "long_mail[:100]"
   ]
  },
  {
   "cell_type": "code",
   "execution_count": 19,
   "metadata": {},
   "outputs": [],
   "source": [
    "mail_out = ecc_editor('7_1_3')"
   ]
  },
  {
   "cell_type": "code",
   "execution_count": 20,
   "metadata": {},
   "outputs": [],
   "source": [
    "f_out = FailBin(\"out_mail_find.txt\")"
   ]
  },
  {
   "cell_type": "code",
   "execution_count": 21,
   "metadata": {},
   "outputs": [],
   "source": [
    "long_error_walue = mail_out.decoding_work(long_mail) \n",
    "f_out.write_bin(long_error_walue)"
   ]
  },
  {
   "cell_type": "code",
   "execution_count": 22,
   "metadata": {},
   "outputs": [],
   "source": [
    "def test_bin(from_link):\n",
    "    print(\"Стат параметры\")\n",
    "    print(\"Вероятность встретить 0 => \",sum(from_link == 0) / len(from_link))\n",
    "    print(\"Вероятность встретить 1 => \",sum(from_link == 1) / len(from_link))\n",
    "\n",
    "\n",
    "    X1 = from_link == 1\n",
    "    X2 = from_link == 0\n",
    "\n",
    "    print(\"Вероятности переходов\")\n",
    "    print(\"1 to 1 => \",sum(X1[:-1]&X1[1:]) / sum(X1))\n",
    "    print(\"1 to 0 => \",sum(X1[:-1]&X2[1:]) / sum(X1))\n",
    "\n",
    "    print(\"0 to 0 => \",sum(X2[:-1]&X2[1:]) / sum(X2))\n",
    "    print(\"0 to 1 => \",sum(X2[:-1]&X1[1:]) / sum(X2))"
   ]
  },
  {
   "cell_type": "code",
   "execution_count": 23,
   "metadata": {},
   "outputs": [
    {
     "name": "stdout",
     "output_type": "stream",
     "text": [
      "Стат параметры\n",
      "Вероятность встретить 0 =>  0.531081742535487\n",
      "Вероятность встретить 1 =>  0.468918257464513\n",
      "Вероятности переходов\n",
      "1 to 1 =>  0.5160751565762004\n",
      "1 to 0 =>  0.4839248434237996\n",
      "0 to 0 =>  0.5725345622119815\n",
      "0 to 1 =>  0.4272811059907834\n"
     ]
    }
   ],
   "source": [
    "test_bin(long_error_walue)"
   ]
  },
  {
   "cell_type": "code",
   "execution_count": 24,
   "metadata": {},
   "outputs": [
    {
     "name": "stdout",
     "output_type": "stream",
     "text": [
      "Стат параметры\n",
      "Вероятность встретить 0 =>  0.5183289276773102\n",
      "Вероятность встретить 1 =>  0.48167107232268985\n",
      "Вероятности переходов\n",
      "1 to 1 =>  0.5361944307325996\n",
      "1 to 0 =>  0.4637765324196405\n",
      "0 to 0 =>  0.5689962223421479\n",
      "0 to 1 =>  0.43100377765785214\n"
     ]
    }
   ],
   "source": [
    "test_bin(long_mail)"
   ]
  },
  {
   "cell_type": "code",
   "execution_count": 25,
   "metadata": {},
   "outputs": [
    {
     "name": "stdout",
     "output_type": "stream",
     "text": [
      "Стат параметры\n",
      "Вероятность встретить 0 =>  0.49574808059550257\n",
      "Вероятность встретить 1 =>  0.5042519194044974\n",
      "Вероятности переходов\n",
      "1 to 1 =>  0.5028938878350716\n",
      "1 to 0 =>  0.4971061121649284\n",
      "0 to 0 =>  0.4943645078546497\n",
      "0 to 1 =>  0.5056332460344912\n"
     ]
    }
   ],
   "source": [
    "test_bin(long_box)"
   ]
  },
  {
   "cell_type": "code",
   "execution_count": 26,
   "metadata": {},
   "outputs": [],
   "source": [
    "def auto_kor_for_step(value,step=1):\n",
    "    if step == 0 :\n",
    "        out = 1\n",
    "    else:\n",
    "        out = np.corrcoef(value[:-step],value[step:])[0][1]\n",
    "    return out\n",
    "\n",
    "def auto_kor(value,delta_max = 10):\n",
    "    return np.array([auto_kor_for_step(value,x) for x in range(delta_max)])"
   ]
  },
  {
   "cell_type": "code",
   "execution_count": 27,
   "metadata": {},
   "outputs": [
    {
     "data": {
      "text/plain": [
       "array([ 1.        ,  0.08871527, -0.02755721, -0.02195701,  0.00409326,\n",
       "        0.01973849, -0.01005419,  0.00302374,  0.00608463,  0.0282156 ])"
      ]
     },
     "execution_count": 27,
     "metadata": {},
     "output_type": "execute_result"
    }
   ],
   "source": [
    "auto_kor(long_error_walue)"
   ]
  },
  {
   "cell_type": "code",
   "execution_count": 28,
   "metadata": {},
   "outputs": [
    {
     "data": {
      "image/png": "[encoded data removed]",
      "text/plain": [
       "<Figure size 1008x576 with 1 Axes>"
      ]
     },
     "metadata": {
      "needs_background": "light"
     },
     "output_type": "display_data"
    }
   ],
   "source": [
    "plt.plot(auto_kor(long_error_walue))\n",
    "plt.grid();"
   ]
  },
  {
   "cell_type": "markdown",
   "metadata": {},
   "source": [
    "### Длинный текст с настоящим текстом"
   ]
  },
  {
   "cell_type": "code",
   "execution_count": 29,
   "metadata": {},
   "outputs": [
    {
     "name": "stdout",
     "output_type": "stream",
     "text": [
      "Вероятность ошибки  0.0795911209099564\n",
      "Выбранный код ('63_7_15', 95457791829701599)\n",
      "Длинна бокса 898065 bit\n",
      "===================================\n",
      "Полная вероятность в кейсе 0.07910229215034546\n"
     ]
    }
   ],
   "source": [
    "p_erorr_et = full_error\n",
    "print(\"Вероятность ошибки \",p_erorr_et)\n",
    "name_cod_et = stat.selection_g_x(p_erorr_et)\n",
    "print(\"Выбранный код\", name_cod_et)\n",
    "\n",
    "treak_to_box = \"long_text.txt\"\n",
    "et_editer = ecc_editor(name_cod_box[0])\n",
    "et_box = et_editer.cod_work(treak_to_box)\n",
    "len_box = len(long_box)\n",
    "print(f\"Длинна бокса {len_box} bit\")\n",
    "print(\"===================================\")\n",
    "et_link = iaa.noise_in_treak(et_box,p_erorr_et * dop)\n",
    "print(f\"Полная вероятность в кейсе {sum(et_link != et_box) / len(et_box)}\")\n",
    "\n"
   ]
  },
  {
   "cell_type": "code",
   "execution_count": 30,
   "metadata": {},
   "outputs": [
    {
     "name": "stdout",
     "output_type": "stream",
     "text": [
      "Стат параметры\n",
      "Вероятность встретить 0 =>  0.49670012749633935\n",
      "Вероятность встретить 1 =>  0.5032998725036606\n",
      "Вероятности переходов\n",
      "1 to 1 =>  0.5025486951211957\n",
      "1 to 0 =>  0.49745130487880423\n",
      "0 to 0 =>  0.4959367272776185\n",
      "0 to 1 =>  0.5040610309167416\n"
     ]
    }
   ],
   "source": [
    "test_bin(et_link)"
   ]
  },
  {
   "cell_type": "code",
   "execution_count": 31,
   "metadata": {},
   "outputs": [
    {
     "name": "stdout",
     "output_type": "stream",
     "text": [
      "Стат параметры\n",
      "Вероятность встретить 0 =>  0.49574808059550257\n",
      "Вероятность встретить 1 =>  0.5042519194044974\n",
      "Вероятности переходов\n",
      "1 to 1 =>  0.5028938878350716\n",
      "1 to 0 =>  0.4971061121649284\n",
      "0 to 0 =>  0.4943645078546497\n",
      "0 to 1 =>  0.5056332460344912\n"
     ]
    }
   ],
   "source": [
    "test_bin(et_box)"
   ]
  },
  {
   "cell_type": "code",
   "execution_count": null,
   "metadata": {},
   "outputs": [],
   "source": []
  }
 ],
 "metadata": {
  "kernelspec": {
   "display_name": "Python 3",
   "language": "python",
   "name": "python3"
  },
  "language_info": {
   "codemirror_mode": {
    "name": "ipython",
    "version": 3
   },
   "file_extension": ".py",
   "mimetype": "text/x-python",
   "name": "python",
   "nbconvert_exporter": "python",
   "pygments_lexer": "ipython3",
   "version": "3.8.5"
  }
 },
 "nbformat": 4,
 "nbformat_minor": 4
}
