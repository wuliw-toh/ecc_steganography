{
 "cells": [
  {
   "cell_type": "code",
   "execution_count": 1,
   "metadata": {},
   "outputs": [],
   "source": [
    "import os\n",
    "os.chdir(\"../module/\")\n",
    "\n",
    "import ecc_editor as e_ed\n",
    "import ecc_library as e_lib\n",
    "import interference_and_attacks as iaa\n",
    "import secret_block as sb\n",
    "import stat_treak as stat \n",
    "\n",
    "os.chdir(\"../notepads/data/\")"
   ]
  },
  {
   "cell_type": "markdown",
   "metadata": {},
   "source": [
    "### Глабальные парамерты системы"
   ]
  },
  {
   "cell_type": "code",
   "execution_count": 20,
   "metadata": {},
   "outputs": [],
   "source": [
    "#p_erorr_global = 0.03\n",
    "p_erorr_global = 0.05\n",
    "key = b\"123_mail_UP\""
   ]
  },
  {
   "cell_type": "markdown",
   "metadata": {},
   "source": [
    "### Блок статистики (stst_treak)"
   ]
  },
  {
   "cell_type": "code",
   "execution_count": 21,
   "metadata": {},
   "outputs": [
    {
     "name": "stdout",
     "output_type": "stream",
     "text": [
      "Вероятность естественной ошибки 0.05\n"
     ]
    },
    {
     "data": {
      "text/plain": [
       "('63_7_15', 95457791829701599)"
      ]
     },
     "execution_count": 21,
     "metadata": {},
     "output_type": "execute_result"
    }
   ],
   "source": [
    "name_cod_box = stat.selection_g_x(p_erorr_global)\n",
    "print(\"Вероятность естественной ошибки\",p_erorr_global)\n",
    "name_cod_box"
   ]
  },
  {
   "cell_type": "code",
   "execution_count": 22,
   "metadata": {},
   "outputs": [
    {
     "name": "stdout",
     "output_type": "stream",
     "text": [
      "Вероятность искуственной ошибки 0.06620442158513286\n"
     ]
    },
    {
     "data": {
      "text/plain": [
       "('7_1_3', 127)"
      ]
     },
     "execution_count": 22,
     "metadata": {},
     "output_type": "execute_result"
    }
   ],
   "source": [
    "p_sintetik = stat.selection_sintetik_p(p_erorr_global,name_cod_box[0])\n",
    "print(\"Вероятность искуственной ошибки\",p_sintetik)\n",
    "name_cod_mail = stat.selection_g_x(p_erorr_global,0)\n",
    "name_cod_mail"
   ]
  },
  {
   "cell_type": "markdown",
   "metadata": {},
   "source": [
    "### Блоки кодирования (ecc_editor)"
   ]
  },
  {
   "cell_type": "code",
   "execution_count": 24,
   "metadata": {},
   "outputs": [
    {
     "data": {
      "text/plain": [
       "array([0., 1., 0., 1., 1., 1., 1., 0., 0., 1., 0., 1., 0., 0., 0., 1., 1.,\n",
       "       0., 0., 0., 0., 1., 0., 0., 0., 0., 0., 1., 1., 1., 1., 1., 1., 0.,\n",
       "       1., 0., 1., 0., 1., 1., 0., 0., 1., 1., 0., 1., 1., 1., 0., 1., 1.,\n",
       "       0., 1., 0., 0., 1., 0., 0., 1., 1., 1., 0., 0., 1., 0., 0., 1., 1.,\n",
       "       1., 1., 0., 1., 1., 1., 1., 1., 0., 0., 0., 0., 0., 0., 1., 0., 1.,\n",
       "       0., 1., 0., 0., 1., 1., 0., 0., 1., 0., 0., 0., 1., 0., 0., 1., 0.,\n",
       "       1., 1., 0., 1., 1., 0., 0., 0., 1., 1., 1., 0., 1., 0., 0., 0., 0.,\n",
       "       1., 1., 0., 1., 0., 1., 1., 0.])"
      ]
     },
     "execution_count": 24,
     "metadata": {},
     "output_type": "execute_result"
    }
   ],
   "source": [
    "treak_to_box = \"long_text.txt\"\n",
    "box_editer = e_ed.ecc_editor(name_cod_box[0])\n",
    "long_box = box_editer.cod_work(treak_to_box)\n",
    "len_box = len(long_box)\n",
    "long_box[:127]"
   ]
  },
  {
   "cell_type": "code",
   "execution_count": 25,
   "metadata": {
    "scrolled": true
   },
   "outputs": [
    {
     "data": {
      "text/plain": [
       "array([1., 1., 1., 1., 1., 1., 1., 1., 1., 1., 1., 1., 1., 1., 0., 0., 0.,\n",
       "       0., 0., 0., 0., 1., 1., 1., 1., 1., 1., 1., 0., 0., 0., 0., 0., 0.,\n",
       "       0., 0., 0., 0., 0., 0., 0., 0., 0., 0., 0., 0., 0., 0., 0., 0., 0.,\n",
       "       0., 0., 0., 0., 0., 1., 1., 1., 1., 1., 1., 1., 0., 0., 0., 0., 0.,\n",
       "       0., 0., 1., 1., 1., 1., 1., 1., 1., 0., 0., 0., 0., 0., 0., 0., 0.,\n",
       "       0., 0., 0., 0., 0., 0., 0., 0., 0., 0., 0., 0., 0., 1., 1., 1., 1.,\n",
       "       1., 1., 1., 0., 0., 0., 0., 0., 0., 0., 1., 1., 1., 1., 1., 1., 1.,\n",
       "       1., 1., 1., 1., 1., 1., 1., 0.])"
      ]
     },
     "execution_count": 25,
     "metadata": {},
     "output_type": "execute_result"
    }
   ],
   "source": [
    "treak_to_mail = \"mail.txt\"\n",
    "mail_editer = e_ed.ecc_editor(name_cod_mail[0])\n",
    "long_mail = mail_editer.cod_work(treak_to_mail)\n",
    "long_mail[:127]"
   ]
  },
  {
   "cell_type": "code",
   "execution_count": 26,
   "metadata": {},
   "outputs": [
    {
     "name": "stdout",
     "output_type": "stream",
     "text": [
      "Ожидаеммая длинна контенера 59455.87387085234\n",
      "Реальная длинна контейнера 25760\n"
     ]
    }
   ],
   "source": [
    "print(\"Ожидаеммая длинна контенера\",len_box * p_sintetik)\n",
    "print(\"Реальная длинна контейнера\",len(long_mail))"
   ]
  },
  {
   "cell_type": "markdown",
   "metadata": {},
   "source": [
    "### Размещение сообщения (secret_block)"
   ]
  },
  {
   "cell_type": "code",
   "execution_count": 27,
   "metadata": {},
   "outputs": [
    {
     "data": {
      "text/plain": [
       "array([0, 1, 0, 1, 1, 1, 1, 0, 0, 1, 0, 1, 0, 0, 0, 1, 1, 0, 0, 0, 0, 1,\n",
       "       0, 1, 0, 0, 0, 1, 1, 1, 1, 1, 1, 0, 1, 0, 1, 0, 1, 1, 0, 0, 1, 1,\n",
       "       0, 1, 1, 1, 1, 1, 1, 0, 1, 0, 0, 1, 0, 1, 1, 1, 1, 0, 0, 1, 0, 0,\n",
       "       1, 1, 1, 1, 0, 1, 1, 1, 1, 1, 0, 0, 0, 0, 0, 0, 1, 0, 1, 1, 1, 0,\n",
       "       0, 1, 1, 0, 0, 1, 0, 0, 0, 1, 0, 0])"
      ]
     },
     "execution_count": 27,
     "metadata": {},
     "output_type": "execute_result"
    }
   ],
   "source": [
    "sicret_ed_in = sb.secret_editor(key)\n",
    "to_link = sicret_ed_in.merge_sequences(long_box,long_mail,p_sintetik)\n",
    "to_link[:100]"
   ]
  },
  {
   "cell_type": "code",
   "execution_count": 28,
   "metadata": {},
   "outputs": [
    {
     "name": "stdout",
     "output_type": "stream",
     "text": [
      "Вероятность искуственной ошибки 0.03291521215056817\n"
     ]
    }
   ],
   "source": [
    "print(f\"Вероятность искуственной ошибки {sum(to_link != long_box) / len(long_box)}\")"
   ]
  },
  {
   "cell_type": "markdown",
   "metadata": {},
   "source": [
    "### Ошибки в линии связи (interference_and_attacks)"
   ]
  },
  {
   "cell_type": "code",
   "execution_count": 29,
   "metadata": {},
   "outputs": [
    {
     "name": "stdout",
     "output_type": "stream",
     "text": [
      "Вероятность естественной ошибки 0.04985941997516884\n"
     ]
    }
   ],
   "source": [
    "from_link = iaa.noise_in_treak(to_link,p_erorr_global)\n",
    "print(f\"Вероятность естественной ошибки {sum(to_link != from_link) / len(from_link)}\")"
   ]
  },
  {
   "cell_type": "code",
   "execution_count": 30,
   "metadata": {},
   "outputs": [
    {
     "name": "stdout",
     "output_type": "stream",
     "text": [
      "Полная вероятность в кейсе 0.07946084080773663\n"
     ]
    }
   ],
   "source": [
    "print(f\"Полная вероятность в кейсе {sum(long_box != from_link) / len(from_link)}\")"
   ]
  },
  {
   "cell_type": "markdown",
   "metadata": {},
   "source": [
    "### Бок разделения сообщений"
   ]
  },
  {
   "cell_type": "code",
   "execution_count": 31,
   "metadata": {},
   "outputs": [
    {
     "data": {
      "text/plain": [
       "('63_7_15', 95457791829701599)"
      ]
     },
     "execution_count": 31,
     "metadata": {},
     "output_type": "execute_result"
    }
   ],
   "source": [
    "name_cod_box_end = stat.selection_g_x(p_erorr_global)\n",
    "name_cod_box_end"
   ]
  },
  {
   "cell_type": "code",
   "execution_count": 32,
   "metadata": {},
   "outputs": [
    {
     "data": {
      "text/plain": [
       "('7_1_3', 127)"
      ]
     },
     "execution_count": 32,
     "metadata": {},
     "output_type": "execute_result"
    }
   ],
   "source": [
    "p_sintetik_end = stat.selection_sintetik_p(p_erorr_global,name_cod_box[0])\n",
    "name_cod_mail_end = stat.selection_g_x(p_erorr_global,0)\n",
    "name_cod_mail_end"
   ]
  },
  {
   "cell_type": "code",
   "execution_count": 33,
   "metadata": {},
   "outputs": [],
   "source": [
    "sicret_ed_out = sb.secret_editor(key)\n",
    "long_mail_end = sicret_ed_out.separation_sequences(from_link,p_sintetik_end)\n",
    "\n",
    "cut_point = sicret_ed_out.gen_mark_sequence_bin(int(name_cod_mail_end[0].split(\"_\")[0]))"
   ]
  },
  {
   "cell_type": "markdown",
   "metadata": {},
   "source": [
    "### Блок декодирования"
   ]
  },
  {
   "cell_type": "code",
   "execution_count": 34,
   "metadata": {},
   "outputs": [],
   "source": [
    "out_box_e = e_ed.ecc_editor(name_cod_box_end[0])\n",
    "box_end = out_box_e.decoding_work(from_link)"
   ]
  },
  {
   "cell_type": "code",
   "execution_count": 35,
   "metadata": {},
   "outputs": [],
   "source": [
    "box_out = e_ed.FailBin(\"box_out.txt\")\n",
    "box_out.write_bin(box_end)"
   ]
  },
  {
   "cell_type": "code",
   "execution_count": 36,
   "metadata": {},
   "outputs": [],
   "source": [
    "out_mail_e = e_ed.ecc_editor(name_cod_mail_end[0])\n",
    "mail_end = out_mail_e.decoding_work(long_mail_end,cut_point,True)"
   ]
  },
  {
   "cell_type": "code",
   "execution_count": 37,
   "metadata": {},
   "outputs": [],
   "source": [
    "box_mail = e_ed.FailBin(\"mail_out.txt\")\n",
    "box_mail.write_bin(mail_end)"
   ]
  },
  {
   "cell_type": "markdown",
   "metadata": {},
   "source": [
    "### Оценка качества"
   ]
  },
  {
   "cell_type": "code",
   "execution_count": null,
   "metadata": {},
   "outputs": [],
   "source": []
  }
 ],
 "metadata": {
  "kernelspec": {
   "display_name": "Python 3",
   "language": "python",
   "name": "python3"
  },
  "language_info": {
   "codemirror_mode": {
    "name": "ipython",
    "version": 3
   },
   "file_extension": ".py",
   "mimetype": "text/x-python",
   "name": "python",
   "nbconvert_exporter": "python",
   "pygments_lexer": "ipython3",
   "version": "3.8.3"
  }
 },
 "nbformat": 4,
 "nbformat_minor": 4
}
